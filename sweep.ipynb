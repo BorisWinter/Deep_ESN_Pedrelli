{
 "cells": [
  {
   "cell_type": "code",
   "execution_count": 1,
   "id": "altered-tobago",
   "metadata": {},
   "outputs": [],
   "source": [
    "import numpy as np\n",
    "import random\n",
    "from DeepESN import DeepESN\n",
    "from utils import MSE, config_MG, load_MG, load_chest, select_indexes\n",
    "class Struct(object): pass\n",
    "\n",
    "from sklearn.model_selection import ParameterGrid\n",
    "\n",
    "np.random.seed(7)"
   ]
  },
  {
   "cell_type": "code",
   "execution_count": 69,
   "id": "lined-clone",
   "metadata": {},
   "outputs": [],
   "source": [
    "def train(Nr, Nl, reg, transient, rhos, lis, iss, con):\n",
    "    configs = Struct()\n",
    " \n",
    "    configs.rhos = rhos\n",
    "    configs.lis = lis\n",
    "    configs.iss = iss\n",
    "\n",
    "    configs.IPconf = Struct()\n",
    "    configs.IPconf.DeepIP = 0 # deactivate pre-train\n",
    "\n",
    "    configs.reservoirConf = Struct()\n",
    "    configs.reservoirConf.connectivity = con \n",
    "\n",
    "    configs.readout = Struct()\n",
    "    configs.readout.trainMethod = 'SVD' # train with singular value decomposition (more accurate)\n",
    "    configs.readout.regularizations = 10.0**np.array(range(-16,-1,1))\n",
    "\n",
    "    deepESN = DeepESN(Nu, Nr, Nl, configs)\n",
    "    states = deepESN.computeState(dataset.inputs, deepESN.IPconf.DeepIP)\n",
    "        \n",
    "    train_states = select_indexes(states, list(TR_indexes) + list(VL_indexes), transient)\n",
    "    train_targets = select_indexes(dataset.targets, list(TR_indexes) + list(VL_indexes), transient)\n",
    "    test_states = select_indexes(states, TS_indexes)\n",
    "    test_targets = select_indexes(dataset.targets, TS_indexes)\n",
    "    \n",
    "    deepESN.trainReadout(train_states, train_targets, reg)\n",
    "    \n",
    "    test_outputs = deepESN.computeOutput(test_states)\n",
    "    test_error = MSE(test_outputs, test_targets)\n",
    "\n",
    "    return test_error"
   ]
  },
  {
   "cell_type": "code",
   "execution_count": 70,
   "id": "chief-surfing",
   "metadata": {},
   "outputs": [
    {
     "data": {
      "text/plain": [
       "0.0015968962373117638"
      ]
     },
     "execution_count": 70,
     "metadata": {},
     "output_type": "execute_result"
    }
   ],
   "source": [
    "train(100, 2, 0.00, 100, 0.9, 1.0, 0.1, 1)"
   ]
  },
  {
   "cell_type": "code",
   "execution_count": 71,
   "id": "capital-contents",
   "metadata": {},
   "outputs": [
    {
     "name": "stdout",
     "output_type": "stream",
     "text": [
      "Training data length: 12500  Validating data length: 12500\n",
      "number of models to be swept over: 5832\n",
      "{'transient': 1000, 'rhos': 0, 'reg': 0, 'lis': 0.2, 'iss': 0, 'con': 0.5, 'Nr': 100, 'Nl': 1, '.sampling': 1}\n",
      "{'transient': 1000, 'rhos': 0.2, 'reg': 0, 'lis': 0.2, 'iss': 0, 'con': 0.5, 'Nr': 100, 'Nl': 1, '.sampling': 1}\n",
      "{'transient': 1000, 'rhos': 0.5, 'reg': 0, 'lis': 0.2, 'iss': 0, 'con': 0.5, 'Nr': 100, 'Nl': 1, '.sampling': 1}\n",
      "{'transient': 1000, 'rhos': 1.0, 'reg': 0, 'lis': 0.2, 'iss': 0, 'con': 0.5, 'Nr': 100, 'Nl': 1, '.sampling': 1}\n",
      "{'transient': 1000, 'rhos': 0, 'reg': 0.1, 'lis': 0.2, 'iss': 0, 'con': 0.5, 'Nr': 100, 'Nl': 1, '.sampling': 1}\n",
      "{'transient': 1000, 'rhos': 0.2, 'reg': 0.1, 'lis': 0.2, 'iss': 0, 'con': 0.5, 'Nr': 100, 'Nl': 1, '.sampling': 1}\n",
      "{'transient': 1000, 'rhos': 0.5, 'reg': 0.1, 'lis': 0.2, 'iss': 0, 'con': 0.5, 'Nr': 100, 'Nl': 1, '.sampling': 1}\n",
      "{'transient': 1000, 'rhos': 1.0, 'reg': 0.1, 'lis': 0.2, 'iss': 0, 'con': 0.5, 'Nr': 100, 'Nl': 1, '.sampling': 1}\n",
      "{'transient': 1000, 'rhos': 0, 'reg': 1, 'lis': 0.2, 'iss': 0, 'con': 0.5, 'Nr': 100, 'Nl': 1, '.sampling': 1}\n",
      "{'transient': 1000, 'rhos': 0.2, 'reg': 1, 'lis': 0.2, 'iss': 0, 'con': 0.5, 'Nr': 100, 'Nl': 1, '.sampling': 1}\n"
     ]
    }
   ],
   "source": [
    "#construct parameter grid\n",
    "\n",
    "#set parameter ranges for sweep\n",
    "parameters = {\n",
    "    \"Nr\": [100, 500, 1000],          # number of recurrent units\n",
    "    \"Nl\": [1, 2, 5],                     # number of recurrent layers\n",
    "    \"reg\": [0, 0.1, 1],                  # regularization of svd\n",
    "    \"transient\": [1000],                 # washout\n",
    "    \"rhos\": [0, 0.2, 0.5, 1.0],       # set spectral radius for all recurrent layers\n",
    "    \"lis\": [0.2, 0.5, 1.0],            # set leaky rate for all recurrent layers\n",
    "    \"iss\": [0, 0.1, 0.6],               # set input scale for all recurrent layers\n",
    "    \"con\": [0.5, 1.0],                 # connectivity of recurrent matrix\n",
    "    \".sampling\": [1,10,25]             # set step size for sampling, 1 is no sampling. be careful not to make dataset too small\n",
    "}\n",
    "\n",
    "data_size = 25000 # pick dataset lenght to run parameter sweep on\n",
    "\n",
    "if 640640/max(parameters[\".sampling\"]) < data_size:\n",
    "    print(\"WARNING: highest sampling rate means that resulting dataset is smaller than data_size. \\n\")\n",
    "\n",
    "print(\"Training data length: \" + str(int(data_size*0.5)) + \"  Validating data length: \" + str(int(data_size*0.5)))\n",
    "\n",
    "search_space = ParameterGrid(parameters)\n",
    "print(\"number of models to be swept over: \" + str(len(search_space)))\n",
    "for i in range(10):\n",
    "    print(search_space[i])\n",
    "    "
   ]
  },
  {
   "cell_type": "code",
   "execution_count": 72,
   "id": "working-pursuit",
   "metadata": {
    "scrolled": false
   },
   "outputs": [
    {
     "name": "stdout",
     "output_type": "stream",
     "text": [
      "input length =  24999\n",
      ".4 =  9999\n",
      ".5 =  12499\n",
      "-1 =  24998\n",
      "Done loading data\n",
      "0\n",
      "1\n",
      "2\n",
      "3\n",
      "4\n",
      "5\n",
      "6\n",
      "7\n",
      "8\n",
      "9\n",
      "10\n",
      "11\n",
      "12\n",
      "13\n"
     ]
    },
    {
     "ename": "KeyboardInterrupt",
     "evalue": "",
     "output_type": "error",
     "traceback": [
      "\u001b[1;31m---------------------------------------------------------------------------\u001b[0m",
      "\u001b[1;31mKeyboardInterrupt\u001b[0m                         Traceback (most recent call last)",
      "\u001b[1;32m<ipython-input-72-f7f0229b0f45>\u001b[0m in \u001b[0;36m<module>\u001b[1;34m\u001b[0m\n\u001b[0;32m      6\u001b[0m         \u001b[0mdataset\u001b[0m\u001b[1;33m,\u001b[0m \u001b[0mNu\u001b[0m\u001b[1;33m,\u001b[0m \u001b[0mTR_indexes\u001b[0m\u001b[1;33m,\u001b[0m \u001b[0mVL_indexes\u001b[0m\u001b[1;33m,\u001b[0m \u001b[0mTS_indexes\u001b[0m \u001b[1;33m=\u001b[0m \u001b[0mload_chest\u001b[0m\u001b[1;33m(\u001b[0m\u001b[1;34m'datasets'\u001b[0m\u001b[1;33m,\u001b[0m \u001b[0mdata_size\u001b[0m\u001b[1;33m,\u001b[0m \u001b[0margs\u001b[0m\u001b[1;33m[\u001b[0m\u001b[1;34m\".sampling\"\u001b[0m\u001b[1;33m]\u001b[0m\u001b[1;33m)\u001b[0m\u001b[1;33m\u001b[0m\u001b[1;33m\u001b[0m\u001b[0m\n\u001b[0;32m      7\u001b[0m         \u001b[0mprevious\u001b[0m \u001b[1;33m=\u001b[0m \u001b[0margs\u001b[0m\u001b[1;33m[\u001b[0m\u001b[1;34m\".sampling\"\u001b[0m\u001b[1;33m]\u001b[0m\u001b[1;33m\u001b[0m\u001b[1;33m\u001b[0m\u001b[0m\n\u001b[1;32m----> 8\u001b[1;33m     \u001b[0mresults\u001b[0m\u001b[1;33m.\u001b[0m\u001b[0mappend\u001b[0m\u001b[1;33m(\u001b[0m\u001b[0mtrain\u001b[0m\u001b[1;33m(\u001b[0m\u001b[0mNr\u001b[0m\u001b[1;33m=\u001b[0m\u001b[0margs\u001b[0m\u001b[1;33m[\u001b[0m\u001b[1;34m'Nr'\u001b[0m\u001b[1;33m]\u001b[0m\u001b[1;33m,\u001b[0m \u001b[0mNl\u001b[0m\u001b[1;33m=\u001b[0m\u001b[0margs\u001b[0m\u001b[1;33m[\u001b[0m\u001b[1;34m'Nl'\u001b[0m\u001b[1;33m]\u001b[0m\u001b[1;33m,\u001b[0m \u001b[0mreg\u001b[0m\u001b[1;33m=\u001b[0m\u001b[0margs\u001b[0m\u001b[1;33m[\u001b[0m\u001b[1;34m'reg'\u001b[0m\u001b[1;33m]\u001b[0m\u001b[1;33m,\u001b[0m \u001b[0mtransient\u001b[0m\u001b[1;33m=\u001b[0m\u001b[0margs\u001b[0m\u001b[1;33m[\u001b[0m\u001b[1;34m'transient'\u001b[0m\u001b[1;33m]\u001b[0m\u001b[1;33m,\u001b[0m \u001b[0mrhos\u001b[0m\u001b[1;33m=\u001b[0m\u001b[0margs\u001b[0m\u001b[1;33m[\u001b[0m\u001b[1;34m'rhos'\u001b[0m\u001b[1;33m]\u001b[0m\u001b[1;33m,\u001b[0m \u001b[0mlis\u001b[0m\u001b[1;33m=\u001b[0m\u001b[0margs\u001b[0m\u001b[1;33m[\u001b[0m\u001b[1;34m'lis'\u001b[0m\u001b[1;33m]\u001b[0m\u001b[1;33m,\u001b[0m \u001b[0miss\u001b[0m\u001b[1;33m=\u001b[0m\u001b[0margs\u001b[0m\u001b[1;33m[\u001b[0m\u001b[1;34m'iss'\u001b[0m\u001b[1;33m]\u001b[0m\u001b[1;33m,\u001b[0m \u001b[0mcon\u001b[0m\u001b[1;33m=\u001b[0m\u001b[0margs\u001b[0m\u001b[1;33m[\u001b[0m\u001b[1;34m'con'\u001b[0m\u001b[1;33m]\u001b[0m\u001b[1;33m)\u001b[0m\u001b[1;33m)\u001b[0m\u001b[1;33m\u001b[0m\u001b[1;33m\u001b[0m\u001b[0m\n\u001b[0m\u001b[0;32m      9\u001b[0m     \u001b[0mprint\u001b[0m\u001b[1;33m(\u001b[0m\u001b[0mi\u001b[0m\u001b[1;33m)\u001b[0m\u001b[1;33m\u001b[0m\u001b[1;33m\u001b[0m\u001b[0m\n",
      "\u001b[1;32m<ipython-input-69-698fa81336fe>\u001b[0m in \u001b[0;36mtrain\u001b[1;34m(Nr, Nl, reg, transient, rhos, lis, iss, con)\u001b[0m\n\u001b[0;32m     17\u001b[0m \u001b[1;33m\u001b[0m\u001b[0m\n\u001b[0;32m     18\u001b[0m     \u001b[0mdeepESN\u001b[0m \u001b[1;33m=\u001b[0m \u001b[0mDeepESN\u001b[0m\u001b[1;33m(\u001b[0m\u001b[0mNu\u001b[0m\u001b[1;33m,\u001b[0m \u001b[0mNr\u001b[0m\u001b[1;33m,\u001b[0m \u001b[0mNl\u001b[0m\u001b[1;33m,\u001b[0m \u001b[0mconfigs\u001b[0m\u001b[1;33m)\u001b[0m\u001b[1;33m\u001b[0m\u001b[1;33m\u001b[0m\u001b[0m\n\u001b[1;32m---> 19\u001b[1;33m     \u001b[0mstates\u001b[0m \u001b[1;33m=\u001b[0m \u001b[0mdeepESN\u001b[0m\u001b[1;33m.\u001b[0m\u001b[0mcomputeState\u001b[0m\u001b[1;33m(\u001b[0m\u001b[0mdataset\u001b[0m\u001b[1;33m.\u001b[0m\u001b[0minputs\u001b[0m\u001b[1;33m,\u001b[0m \u001b[0mdeepESN\u001b[0m\u001b[1;33m.\u001b[0m\u001b[0mIPconf\u001b[0m\u001b[1;33m.\u001b[0m\u001b[0mDeepIP\u001b[0m\u001b[1;33m)\u001b[0m\u001b[1;33m\u001b[0m\u001b[1;33m\u001b[0m\u001b[0m\n\u001b[0m\u001b[0;32m     20\u001b[0m \u001b[1;33m\u001b[0m\u001b[0m\n\u001b[0;32m     21\u001b[0m     \u001b[0mtrain_states\u001b[0m \u001b[1;33m=\u001b[0m \u001b[0mselect_indexes\u001b[0m\u001b[1;33m(\u001b[0m\u001b[0mstates\u001b[0m\u001b[1;33m,\u001b[0m \u001b[0mlist\u001b[0m\u001b[1;33m(\u001b[0m\u001b[0mTR_indexes\u001b[0m\u001b[1;33m)\u001b[0m \u001b[1;33m+\u001b[0m \u001b[0mlist\u001b[0m\u001b[1;33m(\u001b[0m\u001b[0mVL_indexes\u001b[0m\u001b[1;33m)\u001b[0m\u001b[1;33m,\u001b[0m \u001b[0mtransient\u001b[0m\u001b[1;33m)\u001b[0m\u001b[1;33m\u001b[0m\u001b[1;33m\u001b[0m\u001b[0m\n",
      "\u001b[1;32m~\\Dropbox\\ai\\msc\\dl\\Deep_ESN_Pedrelli\\DeepESN\\DeepESN.py\u001b[0m in \u001b[0;36mcomputeState\u001b[1;34m(self, inputs, DeepIP, initialStates, verbose)\u001b[0m\n\u001b[0;32m    213\u001b[0m \u001b[1;33m\u001b[0m\u001b[0m\n\u001b[0;32m    214\u001b[0m             \u001b[1;32mfor\u001b[0m \u001b[0mi_seq\u001b[0m \u001b[1;32min\u001b[0m \u001b[0mrange\u001b[0m\u001b[1;33m(\u001b[0m\u001b[0mlen\u001b[0m\u001b[1;33m(\u001b[0m\u001b[0minputs\u001b[0m\u001b[1;33m)\u001b[0m\u001b[1;33m)\u001b[0m\u001b[1;33m:\u001b[0m\u001b[1;33m\u001b[0m\u001b[1;33m\u001b[0m\u001b[0m\n\u001b[1;32m--> 215\u001b[1;33m                 \u001b[0mstates\u001b[0m\u001b[1;33m.\u001b[0m\u001b[0mappend\u001b[0m\u001b[1;33m(\u001b[0m\u001b[0mself\u001b[0m\u001b[1;33m.\u001b[0m\u001b[0mcomputeGlobalState\u001b[0m\u001b[1;33m(\u001b[0m\u001b[0minputs\u001b[0m\u001b[1;33m[\u001b[0m\u001b[0mi_seq\u001b[0m\u001b[1;33m]\u001b[0m\u001b[1;33m,\u001b[0m \u001b[0minitialStates\u001b[0m\u001b[1;33m)\u001b[0m\u001b[1;33m)\u001b[0m\u001b[1;33m\u001b[0m\u001b[1;33m\u001b[0m\u001b[0m\n\u001b[0m\u001b[0;32m    216\u001b[0m \u001b[1;33m\u001b[0m\u001b[0m\n\u001b[0;32m    217\u001b[0m         \u001b[1;32mif\u001b[0m \u001b[0mverbose\u001b[0m\u001b[1;33m:\u001b[0m\u001b[1;33m\u001b[0m\u001b[1;33m\u001b[0m\u001b[0m\n",
      "\u001b[1;32m~\\Dropbox\\ai\\msc\\dl\\Deep_ESN_Pedrelli\\DeepESN\\DeepESN.py\u001b[0m in \u001b[0;36mcomputeGlobalState\u001b[1;34m(self, input, initialStates)\u001b[0m\n\u001b[0;32m    232\u001b[0m             \u001b[1;32mif\u001b[0m \u001b[0minitialStates\u001b[0m \u001b[1;32mis\u001b[0m \u001b[1;32mnot\u001b[0m \u001b[1;32mNone\u001b[0m\u001b[1;33m:\u001b[0m\u001b[1;33m\u001b[0m\u001b[1;33m\u001b[0m\u001b[0m\n\u001b[0;32m    233\u001b[0m                 \u001b[0minitialStatesLayer\u001b[0m \u001b[1;33m=\u001b[0m \u001b[0minitialStates\u001b[0m\u001b[1;33m[\u001b[0m\u001b[1;33m(\u001b[0m\u001b[0mlayer\u001b[0m\u001b[1;33m)\u001b[0m\u001b[1;33m*\u001b[0m\u001b[0mself\u001b[0m\u001b[1;33m.\u001b[0m\u001b[0mNr\u001b[0m\u001b[1;33m:\u001b[0m \u001b[1;33m(\u001b[0m\u001b[0mlayer\u001b[0m\u001b[1;33m+\u001b[0m\u001b[1;36m1\u001b[0m\u001b[1;33m)\u001b[0m\u001b[1;33m*\u001b[0m\u001b[0mself\u001b[0m\u001b[1;33m.\u001b[0m\u001b[0mNr\u001b[0m\u001b[1;33m,\u001b[0m\u001b[1;33m:\u001b[0m\u001b[1;33m]\u001b[0m\u001b[1;33m\u001b[0m\u001b[1;33m\u001b[0m\u001b[0m\n\u001b[1;32m--> 234\u001b[1;33m             \u001b[0mstate\u001b[0m\u001b[1;33m[\u001b[0m\u001b[1;33m(\u001b[0m\u001b[0mlayer\u001b[0m\u001b[1;33m)\u001b[0m\u001b[1;33m*\u001b[0m\u001b[0mself\u001b[0m\u001b[1;33m.\u001b[0m\u001b[0mNr\u001b[0m\u001b[1;33m:\u001b[0m \u001b[1;33m(\u001b[0m\u001b[0mlayer\u001b[0m\u001b[1;33m+\u001b[0m\u001b[1;36m1\u001b[0m\u001b[1;33m)\u001b[0m\u001b[1;33m*\u001b[0m\u001b[0mself\u001b[0m\u001b[1;33m.\u001b[0m\u001b[0mNr\u001b[0m\u001b[1;33m,\u001b[0m\u001b[1;33m:\u001b[0m\u001b[1;33m]\u001b[0m \u001b[1;33m=\u001b[0m \u001b[0mself\u001b[0m\u001b[1;33m.\u001b[0m\u001b[0mcomputeLayerState\u001b[0m\u001b[1;33m(\u001b[0m\u001b[0minput\u001b[0m\u001b[1;33m,\u001b[0m \u001b[0mlayer\u001b[0m\u001b[1;33m,\u001b[0m \u001b[0minitialStatesLayer\u001b[0m\u001b[1;33m,\u001b[0m \u001b[1;36m0\u001b[0m\u001b[1;33m)\u001b[0m\u001b[1;33m\u001b[0m\u001b[1;33m\u001b[0m\u001b[0m\n\u001b[0m\u001b[0;32m    235\u001b[0m             \u001b[0minput\u001b[0m \u001b[1;33m=\u001b[0m \u001b[0mstate\u001b[0m\u001b[1;33m[\u001b[0m\u001b[1;33m(\u001b[0m\u001b[0mlayer\u001b[0m\u001b[1;33m)\u001b[0m\u001b[1;33m*\u001b[0m\u001b[0mself\u001b[0m\u001b[1;33m.\u001b[0m\u001b[0mNr\u001b[0m\u001b[1;33m:\u001b[0m \u001b[1;33m(\u001b[0m\u001b[0mlayer\u001b[0m\u001b[1;33m+\u001b[0m\u001b[1;36m1\u001b[0m\u001b[1;33m)\u001b[0m\u001b[1;33m*\u001b[0m\u001b[0mself\u001b[0m\u001b[1;33m.\u001b[0m\u001b[0mNr\u001b[0m\u001b[1;33m,\u001b[0m\u001b[1;33m:\u001b[0m\u001b[1;33m]\u001b[0m\u001b[1;33m\u001b[0m\u001b[1;33m\u001b[0m\u001b[0m\n\u001b[0;32m    236\u001b[0m \u001b[1;33m\u001b[0m\u001b[0m\n",
      "\u001b[1;32m~\\Dropbox\\ai\\msc\\dl\\Deep_ESN_Pedrelli\\DeepESN\\DeepESN.py\u001b[0m in \u001b[0;36mcomputeLayerState\u001b[1;34m(self, input, layer, initialStatesLayer, DeepIP)\u001b[0m\n\u001b[0;32m    149\u001b[0m \u001b[1;33m\u001b[0m\u001b[0m\n\u001b[0;32m    150\u001b[0m             \u001b[1;32melse\u001b[0m\u001b[1;33m:\u001b[0m\u001b[1;33m\u001b[0m\u001b[1;33m\u001b[0m\u001b[0m\n\u001b[1;32m--> 151\u001b[1;33m                 \u001b[0mstate\u001b[0m\u001b[1;33m[\u001b[0m\u001b[1;33m:\u001b[0m\u001b[1;33m,\u001b[0m\u001b[0mt\u001b[0m\u001b[1;33m:\u001b[0m\u001b[0mt\u001b[0m\u001b[1;33m+\u001b[0m\u001b[1;36m1\u001b[0m\u001b[1;33m]\u001b[0m \u001b[1;33m=\u001b[0m \u001b[1;33m(\u001b[0m\u001b[1;36m1\u001b[0m\u001b[1;33m-\u001b[0m\u001b[0mself\u001b[0m\u001b[1;33m.\u001b[0m\u001b[0mlis\u001b[0m\u001b[1;33m[\u001b[0m\u001b[0mlayer\u001b[0m\u001b[1;33m]\u001b[0m\u001b[1;33m)\u001b[0m \u001b[1;33m*\u001b[0m \u001b[0mstate\u001b[0m\u001b[1;33m[\u001b[0m\u001b[1;33m:\u001b[0m\u001b[1;33m,\u001b[0m\u001b[0mt\u001b[0m\u001b[1;33m-\u001b[0m\u001b[1;36m1\u001b[0m\u001b[1;33m:\u001b[0m\u001b[0mt\u001b[0m\u001b[1;33m]\u001b[0m \u001b[1;33m+\u001b[0m \u001b[0mself\u001b[0m\u001b[1;33m.\u001b[0m\u001b[0mlis\u001b[0m\u001b[1;33m[\u001b[0m\u001b[0mlayer\u001b[0m\u001b[1;33m]\u001b[0m \u001b[1;33m*\u001b[0m \u001b[0mnp\u001b[0m\u001b[1;33m.\u001b[0m\u001b[0mtanh\u001b[0m\u001b[1;33m(\u001b[0m \u001b[0mnp\u001b[0m\u001b[1;33m.\u001b[0m\u001b[0mmultiply\u001b[0m\u001b[1;33m(\u001b[0m\u001b[0mself\u001b[0m\u001b[1;33m.\u001b[0m\u001b[0mGain\u001b[0m\u001b[1;33m[\u001b[0m\u001b[0mlayer\u001b[0m\u001b[1;33m]\u001b[0m\u001b[1;33m,\u001b[0m \u001b[0mself\u001b[0m\u001b[1;33m.\u001b[0m\u001b[0mW\u001b[0m\u001b[1;33m[\u001b[0m\u001b[0mlayer\u001b[0m\u001b[1;33m]\u001b[0m\u001b[1;33m.\u001b[0m\u001b[0mdot\u001b[0m\u001b[1;33m(\u001b[0m\u001b[0mstate\u001b[0m\u001b[1;33m[\u001b[0m\u001b[1;33m:\u001b[0m\u001b[1;33m,\u001b[0m\u001b[0mt\u001b[0m\u001b[1;33m-\u001b[0m\u001b[1;36m1\u001b[0m\u001b[1;33m:\u001b[0m\u001b[0mt\u001b[0m\u001b[1;33m]\u001b[0m\u001b[1;33m)\u001b[0m \u001b[1;33m+\u001b[0m \u001b[0minput\u001b[0m\u001b[1;33m[\u001b[0m\u001b[1;33m:\u001b[0m\u001b[1;33m,\u001b[0m\u001b[0mt\u001b[0m\u001b[1;33m:\u001b[0m\u001b[0mt\u001b[0m\u001b[1;33m+\u001b[0m\u001b[1;36m1\u001b[0m\u001b[1;33m]\u001b[0m\u001b[1;33m)\u001b[0m \u001b[1;33m+\u001b[0m \u001b[0mself\u001b[0m\u001b[1;33m.\u001b[0m\u001b[0mBias\u001b[0m\u001b[1;33m[\u001b[0m\u001b[0mlayer\u001b[0m\u001b[1;33m]\u001b[0m\u001b[1;33m)\u001b[0m\u001b[1;33m\u001b[0m\u001b[1;33m\u001b[0m\u001b[0m\n\u001b[0m\u001b[0;32m    152\u001b[0m \u001b[1;33m\u001b[0m\u001b[0m\n\u001b[0;32m    153\u001b[0m         \u001b[1;32mreturn\u001b[0m \u001b[0mstate\u001b[0m\u001b[1;33m\u001b[0m\u001b[1;33m\u001b[0m\u001b[0m\n",
      "\u001b[1;31mKeyboardInterrupt\u001b[0m: "
     ]
    }
   ],
   "source": [
    "# run the parameter sweep\n",
    "results = []\n",
    "previous = None\n",
    "for i, args in enumerate(search_space):\n",
    "    if args[\".sampling\"] != previous:\n",
    "        dataset, Nu, TR_indexes, VL_indexes, TS_indexes = load_chest('datasets', data_size, args[\".sampling\"])\n",
    "        previous = args[\".sampling\"]\n",
    "    results.append(train(Nr=args['Nr'], Nl=args['Nl'], reg=args['reg'], transient=args['transient'], rhos=args['rhos'], lis=args['lis'], iss=args['iss'], con=args['con']))\n",
    "    print(i)"
   ]
  }
 ],
 "metadata": {
  "kernelspec": {
   "display_name": "Python 3",
   "language": "python",
   "name": "python3"
  },
  "language_info": {
   "codemirror_mode": {
    "name": "ipython",
    "version": 3
   },
   "file_extension": ".py",
   "mimetype": "text/x-python",
   "name": "python",
   "nbconvert_exporter": "python",
   "pygments_lexer": "ipython3",
   "version": "3.8.6"
  }
 },
 "nbformat": 4,
 "nbformat_minor": 5
}
