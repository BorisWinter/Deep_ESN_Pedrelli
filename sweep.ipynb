{
 "cells": [
  {
   "cell_type": "code",
   "execution_count": 3,
   "id": "infrared-ceramic",
   "metadata": {},
   "outputs": [],
   "source": [
    "import numpy as np\n",
    "import random\n",
    "from DeepESN import DeepESN\n",
    "from utils import MSE, load_chest, select_indexes\n",
    "class Struct(object): pass\n",
    "from sklearn.model_selection import ParameterGrid\n",
    "import copy\n",
    "import csv\n",
    "import time\n",
    "\n",
    "\n",
    "np.random.seed(7)"
   ]
  },
  {
   "cell_type": "code",
   "execution_count": 4,
   "id": "approximate-edition",
   "metadata": {},
   "outputs": [],
   "source": [
    "def train(Nr, Nl, reg, transient, rhos, lis, iss, con):\n",
    "    configs = Struct()\n",
    " \n",
    "    configs.rhos = rhos\n",
    "    configs.lis = lis\n",
    "    configs.iss = iss\n",
    "\n",
    "    configs.IPconf = Struct()\n",
    "    configs.IPconf.DeepIP = 0 # deactivate pre-train\n",
    "\n",
    "    configs.reservoirConf = Struct()\n",
    "    configs.reservoirConf.connectivity = con \n",
    "\n",
    "    configs.readout = Struct()\n",
    "    configs.readout.trainMethod = 'SVD' # train with singular value decomposition (more accurate)\n",
    "    configs.readout.regularizations = 10.0**np.array(range(-16,-1,1))\n",
    "\n",
    "    deepESN = DeepESN(Nu, Nr, Nl, configs)\n",
    "    states = deepESN.computeState(dataset.inputs, deepESN.IPconf.DeepIP)\n",
    "        \n",
    "    train_states = select_indexes(states, list(TR_indexes) + list(VL_indexes), transient)\n",
    "    train_targets = select_indexes(dataset.targets, list(TR_indexes) + list(VL_indexes), transient)\n",
    "    test_states = select_indexes(states, TS_indexes)\n",
    "    test_targets = select_indexes(dataset.targets, TS_indexes)\n",
    "    \n",
    "    deepESN.trainReadout(train_states, train_targets, reg)\n",
    "\n",
    "    return score(deepESN, train_states, test_states, test_targets), test_targets"
   ]
  },
  {
   "cell_type": "code",
   "execution_count": 6,
   "id": "operational-accommodation",
   "metadata": {},
   "outputs": [],
   "source": [
    "def score(deepESN, train_states, test_states, test_targets):\n",
    "    #compute error SIGNAL FED\n",
    "    test_states_std = copy.deepcopy(test_states)\n",
    "    test_outputs_std = deepESN.computeOutput(test_states_std)\n",
    "    test_error_std = MSE(test_outputs_std, test_targets)\n",
    "\n",
    "    #compute error SELF FED\n",
    "    test_outputs = []\n",
    "    state = [train_states[0][:,-1:]] #set last training state as initial state\n",
    "    output = [np.array(deepESN.computeOutput(state))] #set last training output as initial output\n",
    "    for t in range(len(test_states[0][0])):\n",
    "        state = deepESN.computeState(inputs=output, DeepIP=0, initialStates=state[0])\n",
    "        output = deepESN.computeOutput(state)\n",
    "        test_outputs.append(output[0][0])\n",
    "        output = [np.array(output)]\n",
    "#             if t % 3000 == 0:\n",
    "#                 print(t)\n",
    "#                 print(output)\n",
    "\n",
    "    test_error = MSE(np.array(test_outputs), np.array(test_targets))\n",
    "    return test_error, test_outputs, test_error_std, test_outputs_std[0].tolist()"
   ]
  },
  {
   "cell_type": "code",
   "execution_count": 62,
   "id": "signed-grant",
   "metadata": {
    "scrolled": true
   },
   "outputs": [],
   "source": [
    "test = train(10, 2, 0.00, 100, 0.9, 1.0, 0.1, 1)"
   ]
  },
  {
   "cell_type": "code",
   "execution_count": 87,
   "id": "together-letter",
   "metadata": {},
   "outputs": [
    {
     "name": "stdout",
     "output_type": "stream",
     "text": [
      "Training data length: 10000  Validating data length: 10000\n",
      "number of models to be swept over: 5184\n",
      "{'transient': 1000, 'rhos': 0.8, 'reg': 0.01, 'lis': 0.1, 'iss': 1.0, 'con': 0.2, 'Nr': 10, 'Nl': 1, '.sampling': 1}\n",
      "{'transient': 1000, 'rhos': 1.0, 'reg': 0.01, 'lis': 0.1, 'iss': 1.0, 'con': 0.2, 'Nr': 10, 'Nl': 1, '.sampling': 1}\n",
      "{'transient': 1000, 'rhos': 1.2, 'reg': 0.01, 'lis': 0.1, 'iss': 1.0, 'con': 0.2, 'Nr': 10, 'Nl': 1, '.sampling': 1}\n",
      "{'transient': 1000, 'rhos': 3.0, 'reg': 0.01, 'lis': 0.1, 'iss': 1.0, 'con': 0.2, 'Nr': 10, 'Nl': 1, '.sampling': 1}\n",
      "{'transient': 1000, 'rhos': 0.8, 'reg': 0.1, 'lis': 0.1, 'iss': 1.0, 'con': 0.2, 'Nr': 10, 'Nl': 1, '.sampling': 1}\n",
      "{'transient': 1000, 'rhos': 1.0, 'reg': 0.1, 'lis': 0.1, 'iss': 1.0, 'con': 0.2, 'Nr': 10, 'Nl': 1, '.sampling': 1}\n",
      "{'transient': 1000, 'rhos': 1.2, 'reg': 0.1, 'lis': 0.1, 'iss': 1.0, 'con': 0.2, 'Nr': 10, 'Nl': 1, '.sampling': 1}\n",
      "{'transient': 1000, 'rhos': 3.0, 'reg': 0.1, 'lis': 0.1, 'iss': 1.0, 'con': 0.2, 'Nr': 10, 'Nl': 1, '.sampling': 1}\n",
      "{'transient': 1000, 'rhos': 0.8, 'reg': 1.0, 'lis': 0.1, 'iss': 1.0, 'con': 0.2, 'Nr': 10, 'Nl': 1, '.sampling': 1}\n",
      "{'transient': 1000, 'rhos': 1.0, 'reg': 1.0, 'lis': 0.1, 'iss': 1.0, 'con': 0.2, 'Nr': 10, 'Nl': 1, '.sampling': 1}\n"
     ]
    }
   ],
   "source": [
    "#construct parameter grid\n",
    "\n",
    "#set parameter ranges for sweep\n",
    "parameters = {\n",
    "    \"Nr\": [10, 100, 200],          # number of recurrent units\n",
    "    \"Nl\": [1, 2, 5, 10],                     # number of recurrent layers\n",
    "    \"reg\": [0.01, 0.1, 1.0, 10],                  # regularization of svd\n",
    "    \"transient\": [1000],                 # washout\n",
    "    \"rhos\": [0.8, 1.0, 1.2, 3.0, 5.0],       # set spectral radius for all recurrent layers\n",
    "    \"lis\": [0.1, 0.2, 0.5],            # set leaky rate for all recurrent layers\n",
    "    \"iss\": [1.0],               # set input scale for all recurrent layers\n",
    "    \"con\": [0.2, 0.5, 1.0],                 # connectivity of recurrent matrix\n",
    "    \".sampling\": [1,10,30]             # set step size for sampling, 1 is no sampling. be careful not to make dataset too small\n",
    "}\n",
    "\n",
    "data_size = 20000 # pick dataset length to run parameter sweep on\n",
    "\n",
    "if 640640/max(parameters[\".sampling\"]) < data_size:\n",
    "    print(\"WARNING: highest sampling rate means that resulting dataset is smaller than data_size. \\n\")\n",
    "\n",
    "print(\"Training data length: \" + str(int(data_size*0.5)) + \"  Validating data length: \" + str(int(data_size*0.5)))\n",
    "\n",
    "search_space = ParameterGrid(parameters)\n",
    "print(\"number of models to be swept over: \" + str(len(search_space)))\n",
    "for i in range(10):\n",
    "    print(search_space[i])\n",
    "    "
   ]
  },
  {
   "cell_type": "code",
   "execution_count": 9,
   "id": "dress-economy",
   "metadata": {
    "scrolled": true
   },
   "outputs": [
    {
     "data": {
      "text/plain": [
       "[{'transient': 1000,\n",
       "  'rhos': 0.5,\n",
       "  'reg': 1.0,\n",
       "  'lis': 0.5,\n",
       "  'iss': 0.1,\n",
       "  'con': 0.2,\n",
       "  'Nr': 10,\n",
       "  'Nl': 10,\n",
       "  '.sampling': 1},\n",
       " {'transient': 1000,\n",
       "  'rhos': 0.2,\n",
       "  'reg': 1.0,\n",
       "  'lis': 0.5,\n",
       "  'iss': 0.1,\n",
       "  'con': 0.2,\n",
       "  'Nr': 10,\n",
       "  'Nl': 1,\n",
       "  '.sampling': 1},\n",
       " {'transient': 1000,\n",
       "  'rhos': 0.5,\n",
       "  'reg': 1.0,\n",
       "  'lis': 0.2,\n",
       "  'iss': 1.0,\n",
       "  'con': 1.0,\n",
       "  'Nr': 100,\n",
       "  'Nl': 5,\n",
       "  '.sampling': 1},\n",
       " {'transient': 1000,\n",
       "  'rhos': 0.5,\n",
       "  'reg': 1.0,\n",
       "  'lis': 0.5,\n",
       "  'iss': 1.0,\n",
       "  'con': 1.0,\n",
       "  'Nr': 100,\n",
       "  'Nl': 2,\n",
       "  '.sampling': 10},\n",
       " {'transient': 1000,\n",
       "  'rhos': 0.2,\n",
       "  'reg': 0.0,\n",
       "  'lis': 0.2,\n",
       "  'iss': 1.0,\n",
       "  'con': 0.5,\n",
       "  'Nr': 10,\n",
       "  'Nl': 2,\n",
       "  '.sampling': 10},\n",
       " {'transient': 1000,\n",
       "  'rhos': 0.2,\n",
       "  'reg': 1.0,\n",
       "  'lis': 0.5,\n",
       "  'iss': 1.0,\n",
       "  'con': 0.2,\n",
       "  'Nr': 100,\n",
       "  'Nl': 5,\n",
       "  '.sampling': 10},\n",
       " {'transient': 1000,\n",
       "  'rhos': 0.5,\n",
       "  'reg': 1.0,\n",
       "  'lis': 0.1,\n",
       "  'iss': 1.0,\n",
       "  'con': 0.5,\n",
       "  'Nr': 10,\n",
       "  'Nl': 1,\n",
       "  '.sampling': 30},\n",
       " {'transient': 1000,\n",
       "  'rhos': 0.5,\n",
       "  'reg': 0.1,\n",
       "  'lis': 0.5,\n",
       "  'iss': 0.1,\n",
       "  'con': 1.0,\n",
       "  'Nr': 200,\n",
       "  'Nl': 1,\n",
       "  '.sampling': 30},\n",
       " {'transient': 1000,\n",
       "  'rhos': 0.5,\n",
       "  'reg': 0.1,\n",
       "  'lis': 0.1,\n",
       "  'iss': 0.1,\n",
       "  'con': 1.0,\n",
       "  'Nr': 10,\n",
       "  'Nl': 10,\n",
       "  '.sampling': 30},\n",
       " {'transient': 1000,\n",
       "  'rhos': 0.2,\n",
       "  'reg': 1.0,\n",
       "  'lis': 0.2,\n",
       "  'iss': 1.0,\n",
       "  'con': 0.2,\n",
       "  'Nr': 10,\n",
       "  'Nl': 2,\n",
       "  '.sampling': 30}]"
      ]
     },
     "execution_count": 9,
     "metadata": {},
     "output_type": "execute_result"
    }
   ],
   "source": [
    "#make random short list to test sweep on\n",
    "search_space_short = []\n",
    "for i in range(10):\n",
    "    index = round(random.random() * len(search_space))\n",
    "    search_space_short.append(search_space[index])\n",
    "    \n",
    "search_space_short = sorted(search_space_short, key=lambda k: k['.sampling'])\n",
    "search_space_short"
   ]
  },
  {
   "cell_type": "code",
   "execution_count": 8,
   "id": "equal-promotion",
   "metadata": {},
   "outputs": [
    {
     "data": {
      "text/plain": [
       "5832"
      ]
     },
     "execution_count": 8,
     "metadata": {},
     "output_type": "execute_result"
    }
   ],
   "source": [
    "#turn full parameter grid to list.\n",
    "search_space_short = []\n",
    "for i in range(len(search_space)):\n",
    "    search_space_short.append(search_space[i])\n",
    "    \n",
    "search_space_short = sorted(search_space_short, key=lambda k: k['.sampling'])\n",
    "len(search_space_short)"
   ]
  },
  {
   "cell_type": "code",
   "execution_count": 10,
   "id": "beneficial-annotation",
   "metadata": {
    "scrolled": false,
    "tags": []
   },
   "outputs": [
    {
     "name": "stdout",
     "output_type": "stream",
     "text": [
      "input length =  19999\n",
      ".7 =  13999\n",
      ".8 =  15999\n",
      "-1 =  19998\n",
      "Done loading data\n",
      "0\n",
      "input length =  19999\n",
      ".7 =  13999\n",
      ".8 =  15999\n",
      "-1 =  19998\n",
      "Done loading data\n",
      "input length =  19999\n",
      ".7 =  13999\n",
      ".8 =  15999\n",
      "-1 =  19998\n",
      "Done loading data\n",
      "average time taken: 3.594172811508179\n"
     ]
    }
   ],
   "source": [
    "# run the parameter sweep\n",
    "start = time.time()\n",
    "results = []\n",
    "targets = []\n",
    "previous = None\n",
    "\n",
    "for i, args in enumerate(search_space_short):\n",
    "    if args[\".sampling\"] != previous:\n",
    "        #update dataset with new sampling rate\n",
    "        dataset, Nu, TR_indexes, VL_indexes, TS_indexes = load_chest('datasets', data_size, args[\".sampling\"])\n",
    "    output, test_targets = train(Nr=args['Nr'], Nl=args['Nl'], reg=args['reg'], transient=args['transient'], rhos=args['rhos'], lis=args['lis'], iss=args['iss'], con=args['con'])\n",
    "    results.append(output)\n",
    "    if args[\".sampling\"] != previous:\n",
    "        targets.append([args[\".sampling\"], test_targets])\n",
    "        previous = args[\".sampling\"]\n",
    "    if i % 1000 == 0:\n",
    "        print(i)\n",
    "\n",
    "print(\"average time taken: \" + str((time.time()-start)/len(search_space_short)))"
   ]
  },
  {
   "cell_type": "code",
   "execution_count": 11,
   "id": "timely-haven",
   "metadata": {},
   "outputs": [],
   "source": [
    "#csv export\n",
    "keys = []\n",
    "for key in search_space_short[0].keys():\n",
    "    keys.append(key)\n",
    "keys.append(\"MSE\")\n",
    "keys.append(\"outputs\")\n",
    "keys.append(\"MSE_std\")\n",
    "keys.append(\"outputs_std\")\n",
    "\n",
    "header = keys\n",
    "\n",
    "with open('results.csv', 'w') as f:\n",
    "    write = csv.writer(f)\n",
    "    write.writerow(header)\n",
    "\n",
    "    for i in range(len(search_space_short)):\n",
    "        vals = []\n",
    "        for val in search_space_short[i].values():\n",
    "            vals.append(val)\n",
    "        for j in range(len(results[0])):\n",
    "            vals.append(results[i][j])\n",
    "        write.writerow(vals)\n",
    "\n",
    "        \n",
    "with open('targets.csv', 'w') as f:\n",
    "    write = csv.writer(f)\n",
    "    header = [\"sampling rate\", \"test_targets\"]\n",
    "    write.writerow(header)\n",
    "    \n",
    "    for row in targets:\n",
    "        write.writerow(row)\n"
   ]
  },
  {
   "cell_type": "code",
   "execution_count": 81,
   "id": "ecological-saint",
   "metadata": {},
   "outputs": [
    {
     "data": {
      "text/plain": [
       "[<matplotlib.lines.Line2D at 0x2605defefa0>]"
      ]
     },
     "execution_count": 81,
     "metadata": {},
     "output_type": "execute_result"
    },
    {
     "data": {
      "image/png": "[encoded data removed]",
      "text/plain": [
       "<Figure size 432x288 with 1 Axes>"
      ]
     },
     "metadata": {
      "needs_background": "light"
     },
     "output_type": "display_data"
    }
   ],
   "source": [
    "import matplotlib.pyplot as plt\n",
    "\n",
    "# 012\n",
    "# 354\n",
    "\n",
    "# results[1][1]\n",
    "plt.plot(targets[1][1][0][0][:500])"
   ]
  },
  {
   "cell_type": "code",
   "execution_count": 83,
   "id": "worth-region",
   "metadata": {},
   "outputs": [
    {
     "data": {
      "text/plain": [
       "[<matplotlib.lines.Line2D at 0x2605efb9640>]"
      ]
     },
     "execution_count": 83,
     "metadata": {},
     "output_type": "execute_result"
    },
    {
     "data": {
      "image/png": "[encoded data removed]",
      "text/plain": [
       "<Figure size 432x288 with 1 Axes>"
      ]
     },
     "metadata": {
      "needs_background": "light"
     },
     "output_type": "display_data"
    }
   ],
   "source": [
    "plt.plot(results[5][1][:500])"
   ]
  },
  {
   "cell_type": "code",
   "execution_count": 17,
   "id": "central-precipitation",
   "metadata": {
    "scrolled": true
   },
   "outputs": [
    {
     "name": "stderr",
     "output_type": "stream",
     "text": [
      "<ipython-input-17-1292471a3633>:1: VisibleDeprecationWarning: Creating an ndarray from ragged nested sequences (which is a list-or-tuple of lists-or-tuples-or ndarrays with different lengths or shapes) is deprecated. If you meant to do this, you must specify 'dtype=object' when creating the ndarray.\n",
      "  results_np = np.array(results)\n"
     ]
    }
   ],
   "source": [
    "results_np = np.array(results)"
   ]
  },
  {
   "cell_type": "code",
   "execution_count": 15,
   "id": "composed-correlation",
   "metadata": {},
   "outputs": [
    {
     "data": {
      "text/plain": [
       "(array([1], dtype=int64), array([0], dtype=int64))"
      ]
     },
     "execution_count": 15,
     "metadata": {},
     "output_type": "execute_result"
    }
   ],
   "source": [
    "np.amin(results_np[:,2])\n",
    "\n",
    "np.where(results_np == np.amin(results_np[:,0]))"
   ]
  }
 ],
 "metadata": {
  "kernelspec": {
   "display_name": "Python 3",
   "language": "python",
   "name": "python3"
  },
  "language_info": {
   "codemirror_mode": {
    "name": "ipython",
    "version": 3
   },
   "file_extension": ".py",
   "mimetype": "text/x-python",
   "name": "python",
   "nbconvert_exporter": "python",
   "pygments_lexer": "ipython3",
   "version": "3.8.6"
  }
 },
 "nbformat": 4,
 "nbformat_minor": 5
}
