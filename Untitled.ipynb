{
 "cells": [
  {
   "cell_type": "code",
   "execution_count": 6,
   "id": "focused-drinking",
   "metadata": {},
   "outputs": [],
   "source": [
    "import pandas as pd"
   ]
  },
  {
   "cell_type": "code",
   "execution_count": 28,
   "id": "talented-momentum",
   "metadata": {},
   "outputs": [],
   "source": [
    "test = pd.read_csv('results.csv')\n",
    "test2 = pd.read_csv('targets.csv')"
   ]
  },
  {
   "cell_type": "code",
   "execution_count": 29,
   "id": "conservative-uruguay",
   "metadata": {},
   "outputs": [
    {
     "data": {
      "text/html": [
       "<div>\n",
       "<style scoped>\n",
       "    .dataframe tbody tr th:only-of-type {\n",
       "        vertical-align: middle;\n",
       "    }\n",
       "\n",
       "    .dataframe tbody tr th {\n",
       "        vertical-align: top;\n",
       "    }\n",
       "\n",
       "    .dataframe thead th {\n",
       "        text-align: right;\n",
       "    }\n",
       "</style>\n",
       "<table border=\"1\" class=\"dataframe\">\n",
       "  <thead>\n",
       "    <tr style=\"text-align: right;\">\n",
       "      <th></th>\n",
       "      <th>sampling rate</th>\n",
       "      <th>test_targets</th>\n",
       "    </tr>\n",
       "  </thead>\n",
       "  <tbody>\n",
       "    <tr>\n",
       "      <th>0</th>\n",
       "      <td>1</td>\n",
       "      <td>[array([[29.17849731, 29.18713379, 29.19573975...</td>\n",
       "    </tr>\n",
       "    <tr>\n",
       "      <th>1</th>\n",
       "      <td>10</td>\n",
       "      <td>[array([[28.71633911, 28.71347046, 28.72781372...</td>\n",
       "    </tr>\n",
       "    <tr>\n",
       "      <th>2</th>\n",
       "      <td>30</td>\n",
       "      <td>[array([[28.43170166, 28.46313477, 28.43170166...</td>\n",
       "    </tr>\n",
       "  </tbody>\n",
       "</table>\n",
       "</div>"
      ],
      "text/plain": [
       "   sampling rate                                       test_targets\n",
       "0              1  [array([[29.17849731, 29.18713379, 29.19573975...\n",
       "1             10  [array([[28.71633911, 28.71347046, 28.72781372...\n",
       "2             30  [array([[28.43170166, 28.46313477, 28.43170166..."
      ]
     },
     "execution_count": 29,
     "metadata": {},
     "output_type": "execute_result"
    }
   ],
   "source": [
    "test2"
   ]
  },
  {
   "cell_type": "code",
   "execution_count": 46,
   "id": "religious-polls",
   "metadata": {},
   "outputs": [
    {
     "data": {
      "text/html": [
       "<div>\n",
       "<style scoped>\n",
       "    .dataframe tbody tr th:only-of-type {\n",
       "        vertical-align: middle;\n",
       "    }\n",
       "\n",
       "    .dataframe tbody tr th {\n",
       "        vertical-align: top;\n",
       "    }\n",
       "\n",
       "    .dataframe thead th {\n",
       "        text-align: right;\n",
       "    }\n",
       "</style>\n",
       "<table border=\"1\" class=\"dataframe\">\n",
       "  <thead>\n",
       "    <tr style=\"text-align: right;\">\n",
       "      <th></th>\n",
       "      <th>transient</th>\n",
       "      <th>rhos</th>\n",
       "      <th>reg</th>\n",
       "      <th>lis</th>\n",
       "      <th>iss</th>\n",
       "      <th>con</th>\n",
       "      <th>Nr</th>\n",
       "      <th>Nl</th>\n",
       "      <th>.sampling</th>\n",
       "      <th>MSE</th>\n",
       "      <th>outputs</th>\n",
       "      <th>MSE_std</th>\n",
       "      <th>outputs_std</th>\n",
       "    </tr>\n",
       "  </thead>\n",
       "  <tbody>\n",
       "    <tr>\n",
       "      <th>542</th>\n",
       "      <td>1000</td>\n",
       "      <td>1.0</td>\n",
       "      <td>0.0</td>\n",
       "      <td>0.1</td>\n",
       "      <td>0.1</td>\n",
       "      <td>0.5</td>\n",
       "      <td>10</td>\n",
       "      <td>2</td>\n",
       "      <td>1</td>\n",
       "      <td>0.001041</td>\n",
       "      <td>[29.185133385188237, 29.186773880235705, 29.18...</td>\n",
       "      <td>0.000706</td>\n",
       "      <td>[29.18716013514313, 29.190280635599265, 29.188...</td>\n",
       "    </tr>\n",
       "  </tbody>\n",
       "</table>\n",
       "</div>"
      ],
      "text/plain": [
       "     transient  rhos  reg  lis  iss  con  Nr  Nl  .sampling       MSE  \\\n",
       "542       1000   1.0  0.0  0.1  0.1  0.5  10   2          1  0.001041   \n",
       "\n",
       "                                               outputs   MSE_std  \\\n",
       "542  [29.185133385188237, 29.186773880235705, 29.18...  0.000706   \n",
       "\n",
       "                                           outputs_std  \n",
       "542  [29.18716013514313, 29.190280635599265, 29.188...  "
      ]
     },
     "execution_count": 46,
     "metadata": {},
     "output_type": "execute_result"
    }
   ],
   "source": [
    "test.iloc[[542]]"
   ]
  }
 ],
 "metadata": {
  "kernelspec": {
   "display_name": "Python 3",
   "language": "python",
   "name": "python3"
  },
  "language_info": {
   "codemirror_mode": {
    "name": "ipython",
    "version": 3
   },
   "file_extension": ".py",
   "mimetype": "text/x-python",
   "name": "python",
   "nbconvert_exporter": "python",
   "pygments_lexer": "ipython3",
   "version": "3.8.6"
  }
 },
 "nbformat": 4,
 "nbformat_minor": 5
}
